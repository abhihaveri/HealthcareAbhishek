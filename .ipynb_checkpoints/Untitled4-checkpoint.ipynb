{
 "cells": [
  {
   "cell_type": "code",
   "execution_count": 3,
   "id": "d57416db",
   "metadata": {},
   "outputs": [
    {
     "name": "stdout",
     "output_type": "stream",
     "text": [
      "Failed for ('itching',) --> Status Code: 405\n"
     ]
    }
   ],
   "source": [
    "import requests\n",
    "import itertools\n",
    "\n",
    "# Define the Flask endpoint\n",
    "url = \"http://localhost:5000/\"  # Replace with your deployed app URL if needed\n",
    "\n",
    "# Define the column names (features)\n",
    "column_names = [\n",
    "    \"itching\"\n",
    "]\n",
    "\n",
    "# Helper function to send POST request with feature combinations\n",
    "def send_request(active_features):\n",
    "    # Generate input form data (Yes/No for all features)\n",
    "    form_data = {feature: 'Yes' if feature in active_features else 'No' for feature in column_names}\n",
    "    \n",
    "    # Send the POST request to Flask app\n",
    "    try:\n",
    "        response = requests.post(url, data=form_data)\n",
    "        if response.status_code == 200:\n",
    "            print(f\"Active Features: {active_features} --> Prediction: {response.json()}\")\n",
    "        else:\n",
    "            print(f\"Failed for {active_features} --> Status Code: {response.status_code}\")\n",
    "    except Exception as e:\n",
    "        print(f\"Error testing {active_features}: {e}\")\n",
    "\n",
    "# Test all combinations of 1, 2, or 3 features\n",
    "for r in range(1, 4):  # r = 1 (single features), 2 (pairs), 3 (triplets)\n",
    "    feature_combinations = itertools.combinations(column_names, r)\n",
    "    for combo in feature_combinations:\n",
    "        send_request(combo)\n"
   ]
  },
  {
   "cell_type": "code",
   "execution_count": null,
   "id": "7fd0a5a9",
   "metadata": {},
   "outputs": [],
   "source": []
  }
 ],
 "metadata": {
  "kernelspec": {
   "display_name": "Python 3 (ipykernel)",
   "language": "python",
   "name": "python3"
  },
  "language_info": {
   "codemirror_mode": {
    "name": "ipython",
    "version": 3
   },
   "file_extension": ".py",
   "mimetype": "text/x-python",
   "name": "python",
   "nbconvert_exporter": "python",
   "pygments_lexer": "ipython3",
   "version": "3.11.5"
  }
 },
 "nbformat": 4,
 "nbformat_minor": 5
}
