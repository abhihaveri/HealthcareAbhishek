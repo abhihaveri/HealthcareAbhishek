{
 "cells": [
  {
   "cell_type": "code",
   "execution_count": 4,
   "id": "9c764216",
   "metadata": {},
   "outputs": [
    {
     "name": "stderr",
     "output_type": "stream",
     "text": [
      "C:\\Users\\abhis\\AppData\\Local\\Temp\\ipykernel_28496\\520293988.py:26: SettingWithCopyWarning: \n",
      "A value is trying to be set on a copy of a slice from a DataFrame.\n",
      "Try using .loc[row_indexer,col_indexer] = value instead\n",
      "\n",
      "See the caveats in the documentation: https://pandas.pydata.org/pandas-docs/stable/user_guide/indexing.html#returning-a-view-versus-a-copy\n",
      "  filtered_df['Normalized_Symptoms'] = filtered_df['Symptoms'].apply(normalize_symptoms)\n"
     ]
    },
    {
     "name": "stdout",
     "output_type": "stream",
     "text": [
      "Filtered unique data saved to filtered_unique_disease_symptoms.csv\n"
     ]
    }
   ],
   "source": [
    "import pandas as pd\n",
    "\n",
    "# Load CSV file\n",
    "file_path = \"disease_symptom_combinations.csv\"  # Replace with your file path\n",
    "output_file = \"filtered_unique_disease_symptoms.csv\"  # File to save the output\n",
    "\n",
    "# Load the data from CSV\n",
    "df = pd.read_csv(file_path)\n",
    "\n",
    "# Define a function to count symptoms\n",
    "def count_symptoms(symptoms):\n",
    "    return len(symptoms.split(',')) if isinstance(symptoms, str) else 0\n",
    "\n",
    "# Filter rows where the symptoms count > 1\n",
    "df['Symptom_Count'] = df['Symptoms'].apply(count_symptoms)\n",
    "filtered_df = df[df['Symptom_Count'] > 1]\n",
    "\n",
    "# Normalize the symptoms (convert to sorted unique combinations)\n",
    "def normalize_symptoms(symptoms):\n",
    "    if isinstance(symptoms, str):\n",
    "        symptom_list = sorted(set(symptoms.split(',')))  # Remove duplicates and sort\n",
    "        return ','.join(symptom_list)  # Rejoin into a single string\n",
    "    return symptoms\n",
    "\n",
    "# Apply normalization to Symptoms column\n",
    "filtered_df['Normalized_Symptoms'] = filtered_df['Symptoms'].apply(normalize_symptoms)\n",
    "\n",
    "# Drop duplicate rows based on the normalized symptoms\n",
    "unique_filtered_df = filtered_df.drop_duplicates(subset=['Normalized_Symptoms'])\n",
    "\n",
    "# Drop helper columns (optional)\n",
    "unique_filtered_df = unique_filtered_df.drop(columns=['Symptom_Count', 'Normalized_Symptoms'])\n",
    "\n",
    "# Save the filtered and unique data to a new CSV file\n",
    "unique_filtered_df.to_csv(output_file, index=False)\n",
    "\n",
    "print(f\"Filtered unique data saved to {output_file}\")\n"
   ]
  },
  {
   "cell_type": "code",
   "execution_count": null,
   "id": "bc8f685c",
   "metadata": {},
   "outputs": [],
   "source": []
  },
  {
   "cell_type": "code",
   "execution_count": null,
   "id": "0cfe6504",
   "metadata": {},
   "outputs": [],
   "source": []
  }
 ],
 "metadata": {
  "kernelspec": {
   "display_name": "Python 3 (ipykernel)",
   "language": "python",
   "name": "python3"
  },
  "language_info": {
   "codemirror_mode": {
    "name": "ipython",
    "version": 3
   },
   "file_extension": ".py",
   "mimetype": "text/x-python",
   "name": "python",
   "nbconvert_exporter": "python",
   "pygments_lexer": "ipython3",
   "version": "3.11.5"
  }
 },
 "nbformat": 4,
 "nbformat_minor": 5
}
