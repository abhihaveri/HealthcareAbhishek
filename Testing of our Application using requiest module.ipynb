{
 "cells": [
  {
   "cell_type": "code",
   "execution_count": 1,
   "id": "883b1b7b",
   "metadata": {},
   "outputs": [
    {
     "name": "stdout",
     "output_type": "stream",
     "text": [
      "                              Active_Features  Status_Code  \\\n",
      "0                                  (itching,)          200   \n",
      "1                                (skin_rash,)          200   \n",
      "2                     (nodal_skin_eruptions,)          200   \n",
      "3                      (continuous_sneezing,)          200   \n",
      "4                                (shivering,)          200   \n",
      "...                                       ...          ...   \n",
      "5483  (breathlessness, indigestion, headache)          200   \n",
      "5484     (sweating, dehydration, indigestion)          200   \n",
      "5485        (sweating, dehydration, headache)          200   \n",
      "5486        (sweating, indigestion, headache)          200   \n",
      "5487     (dehydration, indigestion, headache)          200   \n",
      "\n",
      "                                             Prediction Result  \n",
      "0     {'dl_prediction': 'Chronic Cholestasis', 'rf_p...   Pass  \n",
      "1     {'dl_prediction': 'Fungal Infection', 'rf_pred...   Pass  \n",
      "2     {'dl_prediction': 'Fungal Infection', 'rf_pred...   Pass  \n",
      "3     {'dl_prediction': 'Allergy', 'rf_prediction': ...   Pass  \n",
      "4     {'dl_prediction': 'Allergy', 'rf_prediction': ...   Pass  \n",
      "...                                                 ...    ...  \n",
      "5483  {'dl_prediction': 'Heart Attack', 'rf_predicti...   Pass  \n",
      "5484  {'dl_prediction': 'Gastroenteritis', 'rf_predi...   Pass  \n",
      "5485  {'dl_prediction': 'Gastroenteritis', 'rf_predi...   Pass  \n",
      "5486  {'dl_prediction': 'Malaria', 'rf_prediction': ...   Pass  \n",
      "5487  {'dl_prediction': 'Gastroenteritis', 'rf_predi...   Pass  \n",
      "\n",
      "[5488 rows x 4 columns]\n"
     ]
    }
   ],
   "source": [
    "####'Python'\n",
    "import requests\n",
    "import itertools\n",
    "import pandas as pd\n",
    "\n",
    "# Define the Flask endpoint\n",
    "url = \"http://127.0.0.1:5000/predict\"  \n",
    "\n",
    "# Define the column names (features)\n",
    "column_names = [\n",
    "    \"itching\", \"skin_rash\", \"nodal_skin_eruptions\", \"continuous_sneezing\", \"shivering\", \"chills\", \"joint_pain\",\n",
    "    \"stomach_pain\", \"acidity\", \"ulcers_on_tongue\", \"muscle_wasting\", \"vomiting\", \"burning_micturition\",\n",
    "    \"spotting_urination\", \"fatigue\", \"weight_gain\", \"anxiety\", \"cold_hands_and_feets\", \"mood_swings\",\n",
    "    \"weight_loss\", \"restlessness\", \"lethargy\", \"patches_in_throat\", \"irregular_sugar_level\", \"cough\",\n",
    "    \"high_fever\", \"sunken_eyes\", \"breathlessness\", \"sweating\", \"dehydration\", \"indigestion\", \"headache\",\n",
    "    # Add other feature names here as needed...\n",
    "]\n",
    "\n",
    "# Create a DataFrame to store the results\n",
    "results_df = pd.DataFrame(columns=[\"Active_Features\", \"Status_Code\", \"Prediction\", \"Result\"])\n",
    "\n",
    "# Helper function to send POST request with feature combinations\n",
    "def send_request(active_features):\n",
    "    # Generate input form data (Yes/No for all features)\n",
    "    form_data = {feature: 'Yes' if feature in active_features else 'No' for feature in column_names}\n",
    "    \n",
    "    # Send the POST request to Flask app\n",
    "    try:\n",
    "        response = requests.post(url, data=form_data)\n",
    "        if response.status_code == 200:\n",
    "            prediction = response.json()\n",
    "            result = \"Pass\"\n",
    "        else:\n",
    "            prediction = None\n",
    "            result = \"Fail\"\n",
    "        results_df.loc[len(results_df)] = [active_features, response.status_code, prediction, result]\n",
    "    except Exception as e:\n",
    "        results_df.loc[len(results_df)] = [active_features, \"Error\", str(e), \"Fail\"]\n",
    "\n",
    "# Test all combinations of 1, 2, or 3 features\n",
    "for r in range(1, 4):  # r = 1 (single features), 2 (pairs), 3 (triplets)\n",
    "    feature_combinations = itertools.combinations(column_names, r)\n",
    "    for combo in feature_combinations:\n",
    "        send_request(combo)\n",
    "\n",
    "# Print the results\n",
    "print(results_df)\n",
    "\n",
    "# Optionally, save the results to a CSV file\n",
    "results_df.to_csv(\"test_results.csv\", index=False)\n"
   ]
  },
  {
   "cell_type": "code",
   "execution_count": null,
   "id": "8ec87bd1",
   "metadata": {},
   "outputs": [],
   "source": []
  }
 ],
 "metadata": {
  "kernelspec": {
   "display_name": "Python 3 (ipykernel)",
   "language": "python",
   "name": "python3"
  },
  "language_info": {
   "codemirror_mode": {
    "name": "ipython",
    "version": 3
   },
   "file_extension": ".py",
   "mimetype": "text/x-python",
   "name": "python",
   "nbconvert_exporter": "python",
   "pygments_lexer": "ipython3",
   "version": "3.11.5"
  }
 },
 "nbformat": 4,
 "nbformat_minor": 5
}
