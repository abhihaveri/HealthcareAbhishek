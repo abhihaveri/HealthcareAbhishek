{
 "cells": [
  {
   "cell_type": "code",
   "execution_count": 1,
   "id": "d89382d8",
   "metadata": {},
   "outputs": [],
   "source": [
    "import pandas as pd\n",
    "import numpy as np\n",
    "from sklearn.model_selection import train_test_split\n",
    "from sklearn.preprocessing import StandardScaler\n",
    "from sklearn.impute import SimpleImputer"
   ]
  },
  {
   "cell_type": "code",
   "execution_count": 2,
   "id": "0ba22751",
   "metadata": {},
   "outputs": [
    {
     "name": "stdout",
     "output_type": "stream",
     "text": [
      "   itching  skin_rash  nodal_skin_eruptions  continuous_sneezing  shivering  \\\n",
      "0        1          1                     1                    0          0   \n",
      "1        0          1                     1                    0          0   \n",
      "2        1          0                     1                    0          0   \n",
      "3        1          1                     0                    0          0   \n",
      "4        1          1                     1                    0          0   \n",
      "\n",
      "   chills  joint_pain  stomach_pain  acidity  ulcers_on_tongue  ...  \\\n",
      "0       0           0             0        0                 0  ...   \n",
      "1       0           0             0        0                 0  ...   \n",
      "2       0           0             0        0                 0  ...   \n",
      "3       0           0             0        0                 0  ...   \n",
      "4       0           0             0        0                 0  ...   \n",
      "\n",
      "   blackheads  scurring  skin_peeling  silver_like_dusting  \\\n",
      "0           0         0             0                    0   \n",
      "1           0         0             0                    0   \n",
      "2           0         0             0                    0   \n",
      "3           0         0             0                    0   \n",
      "4           0         0             0                    0   \n",
      "\n",
      "   small_dents_in_nails  inflammatory_nails  blister  red_sore_around_nose  \\\n",
      "0                     0                   0        0                     0   \n",
      "1                     0                   0        0                     0   \n",
      "2                     0                   0        0                     0   \n",
      "3                     0                   0        0                     0   \n",
      "4                     0                   0        0                     0   \n",
      "\n",
      "   yellow_crust_ooze         prognosis  \n",
      "0                  0  Fungal Infection  \n",
      "1                  0  Fungal Infection  \n",
      "2                  0  Fungal Infection  \n",
      "3                  0  Fungal Infection  \n",
      "4                  0  Fungal Infection  \n",
      "\n",
      "[5 rows x 133 columns]\n"
     ]
    }
   ],
   "source": [
    "# Load the dataset\n",
    "data = pd.read_csv('symbipredict_2022.csv')\n",
    "\n",
    "# Display the first few rows of the dataset\n",
    "print(data.head())"
   ]
  },
  {
   "cell_type": "code",
   "execution_count": 3,
   "id": "84170945",
   "metadata": {},
   "outputs": [],
   "source": [
    "# Identify columns with missing values\n",
    "missing_values = data.isnull().sum()\n"
   ]
  },
  {
   "cell_type": "code",
   "execution_count": 4,
   "id": "91891684",
   "metadata": {},
   "outputs": [
    {
     "data": {
      "text/plain": [
       "itching                 0\n",
       "skin_rash               0\n",
       "nodal_skin_eruptions    0\n",
       "continuous_sneezing     0\n",
       "shivering               0\n",
       "                       ..\n",
       "inflammatory_nails      0\n",
       "blister                 0\n",
       "red_sore_around_nose    0\n",
       "yellow_crust_ooze       0\n",
       "prognosis               0\n",
       "Length: 133, dtype: int64"
      ]
     },
     "execution_count": 4,
     "metadata": {},
     "output_type": "execute_result"
    }
   ],
   "source": [
    "missing_values"
   ]
  },
  {
   "cell_type": "code",
   "execution_count": 5,
   "id": "339c8c12",
   "metadata": {},
   "outputs": [],
   "source": [
    "#'prognosis' is the target variable and it is categorical\n",
    "from sklearn.preprocessing import LabelEncoder\n",
    "\n",
    "le = LabelEncoder()\n",
    "data['prognosis'] = le.fit_transform(data['prognosis'])"
   ]
  },
  {
   "cell_type": "code",
   "execution_count": 6,
   "id": "4200cfb5",
   "metadata": {},
   "outputs": [],
   "source": [
    "X = data.drop('prognosis', axis=1)\n",
    "y = data['prognosis']"
   ]
  },
  {
   "cell_type": "code",
   "execution_count": 7,
   "id": "6d9fab48",
   "metadata": {},
   "outputs": [],
   "source": [
    "# Split data into training and testing sets\n",
    "X_train, X_test, y_train, y_test = train_test_split(X, y, test_size=0.2, random_state=42)"
   ]
  },
  {
   "cell_type": "code",
   "execution_count": 8,
   "id": "3f0a38df",
   "metadata": {},
   "outputs": [],
   "source": [
    "# Standardize features\n",
    "scaler = StandardScaler()\n",
    "X_train = scaler.fit_transform(X_train)\n",
    "X_test = scaler.transform(X_test)"
   ]
  },
  {
   "cell_type": "code",
   "execution_count": 9,
   "id": "b4ca97e6",
   "metadata": {},
   "outputs": [],
   "source": [
    "from sklearn.ensemble import RandomForestClassifier\n",
    "from sklearn.metrics import accuracy_score, classification_report, confusion_matrix\n",
    "from sklearn.model_selection import cross_val_score"
   ]
  },
  {
   "cell_type": "code",
   "execution_count": 10,
   "id": "e2d8ed33",
   "metadata": {},
   "outputs": [
    {
     "name": "stdout",
     "output_type": "stream",
     "text": [
      "Accuracy: 1.0\n",
      "Classification Report:\n",
      "               precision    recall  f1-score   support\n",
      "\n",
      "           0       1.00      1.00      1.00        29\n",
      "           1       1.00      1.00      1.00        25\n",
      "           2       1.00      1.00      1.00        29\n",
      "           3       1.00      1.00      1.00        26\n",
      "           4       1.00      1.00      1.00        24\n",
      "           5       1.00      1.00      1.00        29\n",
      "           6       1.00      1.00      1.00        21\n",
      "           7       1.00      1.00      1.00        20\n",
      "           8       1.00      1.00      1.00        24\n",
      "           9       1.00      1.00      1.00        20\n",
      "          10       1.00      1.00      1.00        29\n",
      "          11       1.00      1.00      1.00        21\n",
      "          12       1.00      1.00      1.00        18\n",
      "          13       1.00      1.00      1.00        25\n",
      "          14       1.00      1.00      1.00        22\n",
      "          15       1.00      1.00      1.00        31\n",
      "          16       1.00      1.00      1.00        24\n",
      "          17       1.00      1.00      1.00        25\n",
      "          18       1.00      1.00      1.00        25\n",
      "          19       1.00      1.00      1.00        24\n",
      "          20       1.00      1.00      1.00        23\n",
      "          21       1.00      1.00      1.00        25\n",
      "          22       1.00      1.00      1.00        28\n",
      "          23       1.00      1.00      1.00        20\n",
      "          24       1.00      1.00      1.00        31\n",
      "          25       1.00      1.00      1.00        20\n",
      "          26       1.00      1.00      1.00        23\n",
      "          27       1.00      1.00      1.00        27\n",
      "          28       1.00      1.00      1.00        20\n",
      "          29       1.00      1.00      1.00        16\n",
      "          30       1.00      1.00      1.00        20\n",
      "          31       1.00      1.00      1.00        18\n",
      "          32       1.00      1.00      1.00        26\n",
      "          33       1.00      1.00      1.00        26\n",
      "          34       1.00      1.00      1.00        27\n",
      "          35       1.00      1.00      1.00        29\n",
      "          36       1.00      1.00      1.00        28\n",
      "          37       1.00      1.00      1.00        29\n",
      "          38       1.00      1.00      1.00        22\n",
      "          39       1.00      1.00      1.00        24\n",
      "          40       1.00      1.00      1.00        20\n",
      "\n",
      "    accuracy                           1.00       993\n",
      "   macro avg       1.00      1.00      1.00       993\n",
      "weighted avg       1.00      1.00      1.00       993\n",
      "\n",
      "Confusion Matrix:\n",
      " [[29  0  0 ...  0  0  0]\n",
      " [ 0 25  0 ...  0  0  0]\n",
      " [ 0  0 29 ...  0  0  0]\n",
      " ...\n",
      " [ 0  0  0 ... 22  0  0]\n",
      " [ 0  0  0 ...  0 24  0]\n",
      " [ 0  0  0 ...  0  0 20]]\n",
      "Cross-validation scores: [1. 1. 1. 1. 1.]\n",
      "Average cross-validation score: 1.0\n"
     ]
    }
   ],
   "source": [
    "# Initialize the model\n",
    "rfc = RandomForestClassifier(n_estimators=100, random_state=42)\n",
    "\n",
    "# Train the model\n",
    "rfc.fit(X_train, y_train)\n",
    "\n",
    "# Predict on the test set\n",
    "y_pred = rfc.predict(X_test)\n",
    "\n",
    "# Evaluate the model\n",
    "print(\"Accuracy:\", accuracy_score(y_test, y_pred))\n",
    "print(\"Classification Report:\\n\", classification_report(y_test, y_pred))\n",
    "print(\"Confusion Matrix:\\n\", confusion_matrix(y_test, y_pred))\n",
    "\n",
    "# Cross-validation\n",
    "scores = cross_val_score(rfc, X_train, y_train, cv=5)\n",
    "print(\"Cross-validation scores:\", scores)\n",
    "print(\"Average cross-validation score:\", scores.mean())"
   ]
  },
  {
   "cell_type": "code",
   "execution_count": 12,
   "id": "b23646bf",
   "metadata": {},
   "outputs": [
    {
     "name": "stdout",
     "output_type": "stream",
     "text": [
      "Accuracy: 1.0\n",
      "Classification Report:\n",
      "               precision    recall  f1-score   support\n",
      "\n",
      "           0       1.00      1.00      1.00        29\n",
      "           1       1.00      1.00      1.00        25\n",
      "           2       1.00      1.00      1.00        29\n",
      "           3       1.00      1.00      1.00        26\n",
      "           4       1.00      1.00      1.00        24\n",
      "           5       1.00      1.00      1.00        29\n",
      "           6       1.00      1.00      1.00        21\n",
      "           7       1.00      1.00      1.00        20\n",
      "           8       1.00      1.00      1.00        24\n",
      "           9       1.00      1.00      1.00        20\n",
      "          10       1.00      1.00      1.00        29\n",
      "          11       1.00      1.00      1.00        21\n",
      "          12       1.00      1.00      1.00        18\n",
      "          13       1.00      1.00      1.00        25\n",
      "          14       1.00      1.00      1.00        22\n",
      "          15       1.00      1.00      1.00        31\n",
      "          16       1.00      1.00      1.00        24\n",
      "          17       1.00      1.00      1.00        25\n",
      "          18       1.00      1.00      1.00        25\n",
      "          19       1.00      1.00      1.00        24\n",
      "          20       1.00      1.00      1.00        23\n",
      "          21       1.00      1.00      1.00        25\n",
      "          22       1.00      1.00      1.00        28\n",
      "          23       1.00      1.00      1.00        20\n",
      "          24       1.00      1.00      1.00        31\n",
      "          25       1.00      1.00      1.00        20\n",
      "          26       1.00      1.00      1.00        23\n",
      "          27       1.00      1.00      1.00        27\n",
      "          28       1.00      1.00      1.00        20\n",
      "          29       1.00      1.00      1.00        16\n",
      "          30       1.00      1.00      1.00        20\n",
      "          31       1.00      1.00      1.00        18\n",
      "          32       1.00      1.00      1.00        26\n",
      "          33       1.00      1.00      1.00        26\n",
      "          34       1.00      1.00      1.00        27\n",
      "          35       1.00      1.00      1.00        29\n",
      "          36       1.00      1.00      1.00        28\n",
      "          37       1.00      1.00      1.00        29\n",
      "          38       1.00      1.00      1.00        22\n",
      "          39       1.00      1.00      1.00        24\n",
      "          40       1.00      1.00      1.00        20\n",
      "\n",
      "    accuracy                           1.00       993\n",
      "   macro avg       1.00      1.00      1.00       993\n",
      "weighted avg       1.00      1.00      1.00       993\n",
      "\n",
      "Confusion Matrix:\n",
      " [[29  0  0 ...  0  0  0]\n",
      " [ 0 25  0 ...  0  0  0]\n",
      " [ 0  0 29 ...  0  0  0]\n",
      " ...\n",
      " [ 0  0  0 ... 22  0  0]\n",
      " [ 0  0  0 ...  0 24  0]\n",
      " [ 0  0  0 ...  0  0 20]]\n"
     ]
    }
   ],
   "source": [
    "from sklearn.metrics import accuracy_score, classification_report, confusion_matrix\n",
    "\n",
    "# Evaluate the model on the test set\n",
    "y_pred = rfc.predict(X_test)\n",
    "print(\"Accuracy:\", accuracy_score(y_test, y_pred))\n",
    "print(\"Classification Report:\\n\", classification_report(y_test, y_pred))\n",
    "print(\"Confusion Matrix:\\n\", confusion_matrix(y_test, y_pred))"
   ]
  },
  {
   "cell_type": "code",
   "execution_count": 11,
   "id": "16a725c0",
   "metadata": {},
   "outputs": [
    {
     "name": "stderr",
     "output_type": "stream",
     "text": [
      "C:\\Users\\abhis\\anaconda3\\Lib\\site-packages\\keras\\src\\layers\\core\\dense.py:87: UserWarning: Do not pass an `input_shape`/`input_dim` argument to a layer. When using Sequential models, prefer using an `Input(shape)` object as the first layer in the model instead.\n",
      "  super().__init__(activity_regularizer=activity_regularizer, **kwargs)\n"
     ]
    },
    {
     "name": "stdout",
     "output_type": "stream",
     "text": [
      "Epoch 1/50\n",
      "\u001b[1m124/124\u001b[0m \u001b[32m━━━━━━━━━━━━━━━━━━━━\u001b[0m\u001b[37m\u001b[0m \u001b[1m2s\u001b[0m 4ms/step - accuracy: 0.4617 - loss: 2.4745 - val_accuracy: 1.0000 - val_loss: 0.0442\n",
      "Epoch 2/50\n",
      "\u001b[1m124/124\u001b[0m \u001b[32m━━━━━━━━━━━━━━━━━━━━\u001b[0m\u001b[37m\u001b[0m \u001b[1m0s\u001b[0m 2ms/step - accuracy: 0.9951 - loss: 0.0965 - val_accuracy: 1.0000 - val_loss: 0.0046\n",
      "Epoch 3/50\n",
      "\u001b[1m124/124\u001b[0m \u001b[32m━━━━━━━━━━━━━━━━━━━━\u001b[0m\u001b[37m\u001b[0m \u001b[1m0s\u001b[0m 3ms/step - accuracy: 0.9990 - loss: 0.0305 - val_accuracy: 1.0000 - val_loss: 0.0015\n",
      "Epoch 4/50\n",
      "\u001b[1m124/124\u001b[0m \u001b[32m━━━━━━━━━━━━━━━━━━━━\u001b[0m\u001b[37m\u001b[0m \u001b[1m0s\u001b[0m 2ms/step - accuracy: 0.9974 - loss: 0.0185 - val_accuracy: 1.0000 - val_loss: 6.6851e-04\n",
      "Epoch 5/50\n",
      "\u001b[1m124/124\u001b[0m \u001b[32m━━━━━━━━━━━━━━━━━━━━\u001b[0m\u001b[37m\u001b[0m \u001b[1m0s\u001b[0m 3ms/step - accuracy: 0.9994 - loss: 0.0104 - val_accuracy: 1.0000 - val_loss: 3.7632e-04\n",
      "Epoch 6/50\n",
      "\u001b[1m124/124\u001b[0m \u001b[32m━━━━━━━━━━━━━━━━━━━━\u001b[0m\u001b[37m\u001b[0m \u001b[1m0s\u001b[0m 3ms/step - accuracy: 0.9991 - loss: 0.0092 - val_accuracy: 1.0000 - val_loss: 2.0180e-04\n",
      "Epoch 7/50\n",
      "\u001b[1m124/124\u001b[0m \u001b[32m━━━━━━━━━━━━━━━━━━━━\u001b[0m\u001b[37m\u001b[0m \u001b[1m0s\u001b[0m 3ms/step - accuracy: 0.9996 - loss: 0.0061 - val_accuracy: 1.0000 - val_loss: 1.3566e-04\n",
      "Epoch 8/50\n",
      "\u001b[1m124/124\u001b[0m \u001b[32m━━━━━━━━━━━━━━━━━━━━\u001b[0m\u001b[37m\u001b[0m \u001b[1m0s\u001b[0m 3ms/step - accuracy: 0.9997 - loss: 0.0040 - val_accuracy: 1.0000 - val_loss: 8.4777e-05\n",
      "Epoch 9/50\n",
      "\u001b[1m124/124\u001b[0m \u001b[32m━━━━━━━━━━━━━━━━━━━━\u001b[0m\u001b[37m\u001b[0m \u001b[1m0s\u001b[0m 3ms/step - accuracy: 0.9994 - loss: 0.0047 - val_accuracy: 1.0000 - val_loss: 5.6673e-05\n",
      "Epoch 10/50\n",
      "\u001b[1m124/124\u001b[0m \u001b[32m━━━━━━━━━━━━━━━━━━━━\u001b[0m\u001b[37m\u001b[0m \u001b[1m0s\u001b[0m 3ms/step - accuracy: 1.0000 - loss: 0.0027 - val_accuracy: 1.0000 - val_loss: 4.4787e-05\n",
      "Epoch 11/50\n",
      "\u001b[1m124/124\u001b[0m \u001b[32m━━━━━━━━━━━━━━━━━━━━\u001b[0m\u001b[37m\u001b[0m \u001b[1m0s\u001b[0m 3ms/step - accuracy: 1.0000 - loss: 0.0024 - val_accuracy: 1.0000 - val_loss: 6.1877e-05\n",
      "Epoch 12/50\n",
      "\u001b[1m124/124\u001b[0m \u001b[32m━━━━━━━━━━━━━━━━━━━━\u001b[0m\u001b[37m\u001b[0m \u001b[1m0s\u001b[0m 4ms/step - accuracy: 1.0000 - loss: 0.0032 - val_accuracy: 1.0000 - val_loss: 3.3525e-05\n",
      "Epoch 13/50\n",
      "\u001b[1m124/124\u001b[0m \u001b[32m━━━━━━━━━━━━━━━━━━━━\u001b[0m\u001b[37m\u001b[0m \u001b[1m1s\u001b[0m 4ms/step - accuracy: 1.0000 - loss: 0.0020 - val_accuracy: 1.0000 - val_loss: 2.5782e-05\n",
      "Epoch 14/50\n",
      "\u001b[1m124/124\u001b[0m \u001b[32m━━━━━━━━━━━━━━━━━━━━\u001b[0m\u001b[37m\u001b[0m \u001b[1m0s\u001b[0m 3ms/step - accuracy: 1.0000 - loss: 0.0023 - val_accuracy: 1.0000 - val_loss: 1.9607e-05\n",
      "Epoch 15/50\n",
      "\u001b[1m124/124\u001b[0m \u001b[32m━━━━━━━━━━━━━━━━━━━━\u001b[0m\u001b[37m\u001b[0m \u001b[1m1s\u001b[0m 4ms/step - accuracy: 1.0000 - loss: 0.0014 - val_accuracy: 1.0000 - val_loss: 1.2523e-05\n",
      "Epoch 16/50\n",
      "\u001b[1m124/124\u001b[0m \u001b[32m━━━━━━━━━━━━━━━━━━━━\u001b[0m\u001b[37m\u001b[0m \u001b[1m1s\u001b[0m 5ms/step - accuracy: 1.0000 - loss: 0.0015 - val_accuracy: 1.0000 - val_loss: 9.8401e-06\n",
      "Epoch 17/50\n",
      "\u001b[1m124/124\u001b[0m \u001b[32m━━━━━━━━━━━━━━━━━━━━\u001b[0m\u001b[37m\u001b[0m \u001b[1m1s\u001b[0m 4ms/step - accuracy: 1.0000 - loss: 0.0012 - val_accuracy: 1.0000 - val_loss: 8.9116e-06\n",
      "Epoch 18/50\n",
      "\u001b[1m124/124\u001b[0m \u001b[32m━━━━━━━━━━━━━━━━━━━━\u001b[0m\u001b[37m\u001b[0m \u001b[1m1s\u001b[0m 4ms/step - accuracy: 0.9991 - loss: 0.0019 - val_accuracy: 1.0000 - val_loss: 7.1220e-06\n",
      "Epoch 19/50\n",
      "\u001b[1m124/124\u001b[0m \u001b[32m━━━━━━━━━━━━━━━━━━━━\u001b[0m\u001b[37m\u001b[0m \u001b[1m1s\u001b[0m 4ms/step - accuracy: 1.0000 - loss: 9.4390e-04 - val_accuracy: 1.0000 - val_loss: 6.2880e-06\n",
      "Epoch 20/50\n",
      "\u001b[1m124/124\u001b[0m \u001b[32m━━━━━━━━━━━━━━━━━━━━\u001b[0m\u001b[37m\u001b[0m \u001b[1m1s\u001b[0m 5ms/step - accuracy: 1.0000 - loss: 8.8749e-04 - val_accuracy: 1.0000 - val_loss: 5.0489e-06\n",
      "Epoch 21/50\n",
      "\u001b[1m124/124\u001b[0m \u001b[32m━━━━━━━━━━━━━━━━━━━━\u001b[0m\u001b[37m\u001b[0m \u001b[1m1s\u001b[0m 4ms/step - accuracy: 1.0000 - loss: 9.3120e-04 - val_accuracy: 1.0000 - val_loss: 4.0451e-06\n",
      "Epoch 22/50\n",
      "\u001b[1m124/124\u001b[0m \u001b[32m━━━━━━━━━━━━━━━━━━━━\u001b[0m\u001b[37m\u001b[0m \u001b[1m0s\u001b[0m 3ms/step - accuracy: 1.0000 - loss: 7.0816e-04 - val_accuracy: 1.0000 - val_loss: 3.4261e-06\n",
      "Epoch 23/50\n",
      "\u001b[1m124/124\u001b[0m \u001b[32m━━━━━━━━━━━━━━━━━━━━\u001b[0m\u001b[37m\u001b[0m \u001b[1m1s\u001b[0m 4ms/step - accuracy: 1.0000 - loss: 3.6804e-04 - val_accuracy: 1.0000 - val_loss: 2.6353e-06\n",
      "Epoch 24/50\n",
      "\u001b[1m124/124\u001b[0m \u001b[32m━━━━━━━━━━━━━━━━━━━━\u001b[0m\u001b[37m\u001b[0m \u001b[1m0s\u001b[0m 3ms/step - accuracy: 1.0000 - loss: 3.8073e-04 - val_accuracy: 1.0000 - val_loss: 2.0692e-06\n",
      "Epoch 25/50\n",
      "\u001b[1m124/124\u001b[0m \u001b[32m━━━━━━━━━━━━━━━━━━━━\u001b[0m\u001b[37m\u001b[0m \u001b[1m0s\u001b[0m 3ms/step - accuracy: 1.0000 - loss: 6.1196e-04 - val_accuracy: 1.0000 - val_loss: 2.3990e-06\n",
      "Epoch 26/50\n",
      "\u001b[1m124/124\u001b[0m \u001b[32m━━━━━━━━━━━━━━━━━━━━\u001b[0m\u001b[37m\u001b[0m \u001b[1m0s\u001b[0m 2ms/step - accuracy: 1.0000 - loss: 4.0317e-04 - val_accuracy: 1.0000 - val_loss: 1.7492e-06\n",
      "Epoch 27/50\n",
      "\u001b[1m124/124\u001b[0m \u001b[32m━━━━━━━━━━━━━━━━━━━━\u001b[0m\u001b[37m\u001b[0m \u001b[1m0s\u001b[0m 3ms/step - accuracy: 1.0000 - loss: 5.7993e-04 - val_accuracy: 1.0000 - val_loss: 1.8497e-06\n",
      "Epoch 28/50\n",
      "\u001b[1m124/124\u001b[0m \u001b[32m━━━━━━━━━━━━━━━━━━━━\u001b[0m\u001b[37m\u001b[0m \u001b[1m0s\u001b[0m 3ms/step - accuracy: 1.0000 - loss: 4.7260e-04 - val_accuracy: 1.0000 - val_loss: 1.2305e-06\n",
      "Epoch 29/50\n",
      "\u001b[1m124/124\u001b[0m \u001b[32m━━━━━━━━━━━━━━━━━━━━\u001b[0m\u001b[37m\u001b[0m \u001b[1m0s\u001b[0m 3ms/step - accuracy: 1.0000 - loss: 2.1683e-04 - val_accuracy: 1.0000 - val_loss: 1.0284e-06\n",
      "Epoch 30/50\n",
      "\u001b[1m124/124\u001b[0m \u001b[32m━━━━━━━━━━━━━━━━━━━━\u001b[0m\u001b[37m\u001b[0m \u001b[1m0s\u001b[0m 3ms/step - accuracy: 1.0000 - loss: 2.7898e-04 - val_accuracy: 1.0000 - val_loss: 9.4262e-07\n",
      "Epoch 31/50\n",
      "\u001b[1m124/124\u001b[0m \u001b[32m━━━━━━━━━━━━━━━━━━━━\u001b[0m\u001b[37m\u001b[0m \u001b[1m0s\u001b[0m 3ms/step - accuracy: 1.0000 - loss: 2.7869e-04 - val_accuracy: 1.0000 - val_loss: 7.3445e-07\n",
      "Epoch 32/50\n",
      "\u001b[1m124/124\u001b[0m \u001b[32m━━━━━━━━━━━━━━━━━━━━\u001b[0m\u001b[37m\u001b[0m \u001b[1m0s\u001b[0m 3ms/step - accuracy: 1.0000 - loss: 4.4245e-04 - val_accuracy: 1.0000 - val_loss: 8.3828e-07\n",
      "Epoch 33/50\n",
      "\u001b[1m124/124\u001b[0m \u001b[32m━━━━━━━━━━━━━━━━━━━━\u001b[0m\u001b[37m\u001b[0m \u001b[1m0s\u001b[0m 3ms/step - accuracy: 1.0000 - loss: 2.1626e-04 - val_accuracy: 1.0000 - val_loss: 5.8463e-07\n",
      "Epoch 34/50\n",
      "\u001b[1m124/124\u001b[0m \u001b[32m━━━━━━━━━━━━━━━━━━━━\u001b[0m\u001b[37m\u001b[0m \u001b[1m0s\u001b[0m 2ms/step - accuracy: 1.0000 - loss: 1.7065e-04 - val_accuracy: 1.0000 - val_loss: 4.7851e-07\n",
      "Epoch 35/50\n",
      "\u001b[1m124/124\u001b[0m \u001b[32m━━━━━━━━━━━━━━━━━━━━\u001b[0m\u001b[37m\u001b[0m \u001b[1m0s\u001b[0m 3ms/step - accuracy: 1.0000 - loss: 2.8992e-04 - val_accuracy: 1.0000 - val_loss: 5.3877e-07\n",
      "Epoch 36/50\n",
      "\u001b[1m124/124\u001b[0m \u001b[32m━━━━━━━━━━━━━━━━━━━━\u001b[0m\u001b[37m\u001b[0m \u001b[1m0s\u001b[0m 3ms/step - accuracy: 1.0000 - loss: 4.0951e-04 - val_accuracy: 1.0000 - val_loss: 1.4103e-06\n",
      "Epoch 37/50\n",
      "\u001b[1m124/124\u001b[0m \u001b[32m━━━━━━━━━━━━━━━━━━━━\u001b[0m\u001b[37m\u001b[0m \u001b[1m0s\u001b[0m 3ms/step - accuracy: 1.0000 - loss: 1.7046e-04 - val_accuracy: 1.0000 - val_loss: 7.6762e-07\n",
      "Epoch 38/50\n",
      "\u001b[1m124/124\u001b[0m \u001b[32m━━━━━━━━━━━━━━━━━━━━\u001b[0m\u001b[37m\u001b[0m \u001b[1m0s\u001b[0m 3ms/step - accuracy: 1.0000 - loss: 6.3794e-04 - val_accuracy: 1.0000 - val_loss: 6.7774e-07\n",
      "Epoch 39/50\n",
      "\u001b[1m124/124\u001b[0m \u001b[32m━━━━━━━━━━━━━━━━━━━━\u001b[0m\u001b[37m\u001b[0m \u001b[1m0s\u001b[0m 3ms/step - accuracy: 1.0000 - loss: 2.2438e-04 - val_accuracy: 1.0000 - val_loss: 4.0659e-07\n",
      "Epoch 40/50\n",
      "\u001b[1m124/124\u001b[0m \u001b[32m━━━━━━━━━━━━━━━━━━━━\u001b[0m\u001b[37m\u001b[0m \u001b[1m0s\u001b[0m 3ms/step - accuracy: 0.9994 - loss: 8.9341e-04 - val_accuracy: 1.0000 - val_loss: 6.1055e-07\n",
      "Epoch 41/50\n",
      "\u001b[1m124/124\u001b[0m \u001b[32m━━━━━━━━━━━━━━━━━━━━\u001b[0m\u001b[37m\u001b[0m \u001b[1m0s\u001b[0m 3ms/step - accuracy: 1.0000 - loss: 1.8203e-04 - val_accuracy: 1.0000 - val_loss: 3.5606e-07\n",
      "Epoch 42/50\n",
      "\u001b[1m124/124\u001b[0m \u001b[32m━━━━━━━━━━━━━━━━━━━━\u001b[0m\u001b[37m\u001b[0m \u001b[1m0s\u001b[0m 3ms/step - accuracy: 1.0000 - loss: 9.4258e-05 - val_accuracy: 1.0000 - val_loss: 2.5356e-06\n",
      "Epoch 43/50\n",
      "\u001b[1m124/124\u001b[0m \u001b[32m━━━━━━━━━━━━━━━━━━━━\u001b[0m\u001b[37m\u001b[0m \u001b[1m0s\u001b[0m 3ms/step - accuracy: 1.0000 - loss: 1.1335e-04 - val_accuracy: 1.0000 - val_loss: 3.9036e-07\n",
      "Epoch 44/50\n",
      "\u001b[1m124/124\u001b[0m \u001b[32m━━━━━━━━━━━━━━━━━━━━\u001b[0m\u001b[37m\u001b[0m \u001b[1m0s\u001b[0m 3ms/step - accuracy: 1.0000 - loss: 1.0318e-04 - val_accuracy: 1.0000 - val_loss: 1.9424e-07\n",
      "Epoch 45/50\n",
      "\u001b[1m124/124\u001b[0m \u001b[32m━━━━━━━━━━━━━━━━━━━━\u001b[0m\u001b[37m\u001b[0m \u001b[1m0s\u001b[0m 3ms/step - accuracy: 1.0000 - loss: 1.3890e-04 - val_accuracy: 1.0000 - val_loss: 1.0984e-07\n",
      "Epoch 46/50\n",
      "\u001b[1m124/124\u001b[0m \u001b[32m━━━━━━━━━━━━━━━━━━━━\u001b[0m\u001b[37m\u001b[0m \u001b[1m0s\u001b[0m 3ms/step - accuracy: 1.0000 - loss: 1.2846e-04 - val_accuracy: 1.0000 - val_loss: 6.5640e-07\n",
      "Epoch 47/50\n",
      "\u001b[1m124/124\u001b[0m \u001b[32m━━━━━━━━━━━━━━━━━━━━\u001b[0m\u001b[37m\u001b[0m \u001b[1m0s\u001b[0m 3ms/step - accuracy: 1.0000 - loss: 2.2886e-04 - val_accuracy: 1.0000 - val_loss: 1.2569e-07\n",
      "Epoch 48/50\n",
      "\u001b[1m124/124\u001b[0m \u001b[32m━━━━━━━━━━━━━━━━━━━━\u001b[0m\u001b[37m\u001b[0m \u001b[1m0s\u001b[0m 3ms/step - accuracy: 1.0000 - loss: 1.5616e-04 - val_accuracy: 1.0000 - val_loss: 1.5630e-07\n",
      "Epoch 49/50\n"
     ]
    },
    {
     "name": "stdout",
     "output_type": "stream",
     "text": [
      "\u001b[1m124/124\u001b[0m \u001b[32m━━━━━━━━━━━━━━━━━━━━\u001b[0m\u001b[37m\u001b[0m \u001b[1m0s\u001b[0m 3ms/step - accuracy: 1.0000 - loss: 6.6905e-05 - val_accuracy: 1.0000 - val_loss: 1.4202e-07\n",
      "Epoch 50/50\n",
      "\u001b[1m124/124\u001b[0m \u001b[32m━━━━━━━━━━━━━━━━━━━━\u001b[0m\u001b[37m\u001b[0m \u001b[1m0s\u001b[0m 3ms/step - accuracy: 1.0000 - loss: 8.4221e-05 - val_accuracy: 1.0000 - val_loss: 6.4346e-08\n"
     ]
    },
    {
     "data": {
      "text/plain": [
       "<keras.src.callbacks.history.History at 0x238d9846e90>"
      ]
     },
     "execution_count": 11,
     "metadata": {},
     "output_type": "execute_result"
    }
   ],
   "source": [
    "import tensorflow as tf\n",
    "from tensorflow.keras.models import Sequential\n",
    "from tensorflow.keras.layers import Dense, Dropout\n",
    "\n",
    "# Define the DNN model\n",
    "model = Sequential()\n",
    "model.add(Dense(128, activation='relu', input_shape=(X_train.shape[1],)))\n",
    "model.add(Dropout(0.2))\n",
    "model.add(Dense(64, activation='relu'))\n",
    "model.add(Dropout(0.2))\n",
    "model.add(Dense(len(np.unique(y_train)), activation='softmax'))\n",
    "\n",
    "# Compile the model\n",
    "model.compile(optimizer='adam', loss='sparse_categorical_crossentropy', metrics=['accuracy'])\n",
    "\n",
    "# Train the model\n",
    "model.fit(X_train, y_train, epochs=50, batch_size=32, validation_data=(X_test, y_test))"
   ]
  },
  {
   "cell_type": "code",
   "execution_count": 12,
   "id": "174c9c71",
   "metadata": {},
   "outputs": [
    {
     "name": "stdout",
     "output_type": "stream",
     "text": [
      "\u001b[1m32/32\u001b[0m \u001b[32m━━━━━━━━━━━━━━━━━━━━\u001b[0m\u001b[37m\u001b[0m \u001b[1m0s\u001b[0m 3ms/step - accuracy: 1.0000 - loss: 8.1566e-08\n",
      "Test Accuracy: 100.00%\n"
     ]
    }
   ],
   "source": [
    "# Evaluate the model\n",
    "loss, accuracy = model.evaluate(X_test, y_test)\n",
    "print(f'Test Accuracy: {accuracy * 100:.2f}%')"
   ]
  },
  {
   "cell_type": "code",
   "execution_count": null,
   "id": "73671c73",
   "metadata": {},
   "outputs": [],
   "source": [
    "import shap\n",
    "\n",
    "# Create a SHAP explainer for the Deep Learning model\n",
    "explainer_dl = shap.KernelExplainer(model.predict, shap.sample(X_train, 100)) # Sample 100 background data points\n",
    "\n",
    "# Get SHAP values for the test set\n",
    "shap_values_dl = explainer_dl.shap_values(X_test)\n",
    "\n",
    "# Plot the SHAP values for a specific instance\n",
    "shap.force_plot(explainer_dl.expected_value[0], shap_values_dl[0,:], X_test.iloc[0,:], matplotlib=True)"
   ]
  },
  {
   "cell_type": "code",
   "execution_count": 29,
   "id": "c910a874",
   "metadata": {},
   "outputs": [
    {
     "name": "stderr",
     "output_type": "stream",
     "text": [
      "WARNING:absl:You are saving your model as an HDF5 file via `model.save()` or `keras.saving.save_model(model)`. This file format is considered legacy. We recommend using instead the native Keras format, e.g. `model.save('my_model.keras')` or `keras.saving.save_model(model, 'my_model.keras')`. \n"
     ]
    },
    {
     "data": {
      "text/plain": [
       "['scaler.joblib']"
      ]
     },
     "execution_count": 29,
     "metadata": {},
     "output_type": "execute_result"
    }
   ],
   "source": [
    "# Save Random Forest model\n",
    "joblib.dump(rfc, 'rf_model.joblib')\n",
    "\n",
    "# Save Deep Learning model\n",
    "model.save('dl_model.h5')\n",
    "\n",
    "# Save the scaler\n",
    "joblib.dump(scaler, 'scaler.joblib')"
   ]
  },
  {
   "cell_type": "code",
   "execution_count": null,
   "id": "1ef3108e",
   "metadata": {},
   "outputs": [],
   "source": []
  }
 ],
 "metadata": {
  "kernelspec": {
   "display_name": "Python 3 (ipykernel)",
   "language": "python",
   "name": "python3"
  },
  "language_info": {
   "codemirror_mode": {
    "name": "ipython",
    "version": 3
   },
   "file_extension": ".py",
   "mimetype": "text/x-python",
   "name": "python",
   "nbconvert_exporter": "python",
   "pygments_lexer": "ipython3",
   "version": "3.11.5"
  }
 },
 "nbformat": 4,
 "nbformat_minor": 5
}
